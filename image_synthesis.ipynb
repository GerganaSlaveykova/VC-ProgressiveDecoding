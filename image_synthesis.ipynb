{
  "cells": [
    {
      "cell_type": "markdown",
      "source": [
        "#Image Synthesis  \n",
        "\n",
        "##Written by Gergana Slaveykova s1070004\n",
        "##Radboud University- B3 Thesis project"
      ],
      "metadata": {
        "id": "vMUGFt4sKEIV"
      }
    },
    {
      "cell_type": "code",
      "execution_count": null,
      "metadata": {
        "id": "KsXLXpl-JzCi"
      },
      "outputs": [],
      "source": [
        "#Mount Google Drive to acess data and storing purposes\n",
        "from google.colab import drive\n",
        "drive.mount('/content/drive')\n"
      ]
    },
    {
      "cell_type": "code",
      "execution_count": null,
      "metadata": {
        "id": "KuObvxdh7G1q"
      },
      "outputs": [],
      "source": [
        "#Imports\n",
        "! git clone https://github.com/autonomousvision/stylegan_xl.git\n",
        "! pip install timm==0.6.13\n",
        "! pip install ftfy\n",
        "! pip install einops ninja\n",
        "! pip install dill\n",
        "! wget -c \"https://s3.eu-central-1.amazonaws.com/avg-projects/stylegan_xl/models/imagenet512.pkl\"\n",
        "\n",
        "import sys\n",
        "sys.path.append('./stylegan_xl')\n",
        "import ast\n",
        "import dnnlib\n",
        "import legacy\n",
        "import matplotlib.pyplot as plt\n",
        "import numpy as np\n",
        "from PIL import Image\n",
        "import torch\n",
        "from torch_utils import gen_utils\n",
        "import torch.nn.functional as F\n"
      ]
    },
    {
      "cell_type": "code",
      "execution_count": null,
      "metadata": {
        "id": "b7625CtG968J"
      },
      "outputs": [],
      "source": [
        "#set device\n",
        "device = torch.device('cuda')\n",
        "\n",
        "#Load the generator\n",
        "with dnnlib.util.open_url(\"imagenet512.pkl\") as f:\n",
        "    G = legacy.load_network_pkl(f)['G_ema'].to(device) # type: ignore\n",
        "\n",
        "print(device)"
      ]
    },
    {
      "cell_type": "code",
      "execution_count": null,
      "metadata": {
        "id": "yqn5n8HEjVNJ"
      },
      "outputs": [],
      "source": [
        "def reconstruction(latents):\n",
        "    # Synthesize an image from the latent vector\n",
        "    img = G.synthesis(latents[None], noise_mode=\"none\")\n",
        "    # Permute the image dimensions to match the expected format (batch, height, width, channels)\n",
        "    # Scale pixel values from [-1, 1] to [0, 255] and clamp to valid range [0, 255]\n",
        "    img = (img.permute(0, 2, 3, 1) * 127.5 + 128).clamp(0, 255).to(torch.uint8)\n",
        "     # Convert the tensor to a PIL image\n",
        "    img = Image.fromarray(img[0].cpu().numpy(), 'RGB')\n",
        "    return img\n"
      ]
    },
    {
      "cell_type": "code",
      "source": [
        "#Loading Predicted Latents\n",
        "w_te = np.load(\"/content/drive/MyDrive/GOD-NEW-3p/latents/t_te_best.npy\")\n",
        "\n",
        "y_te_p=np.load(\"/content/drive/MyDrive/z-scored_filtered_my_method/isolationfiltered_ppa_y_te.npy\",allow_pickle=True)\n",
        "y_te_f=np.load(\"/content/drive/MyDrive/z-scored_filtered_my_method/isolationfiltered_ffa_y_te.npy\",allow_pickle=True)\n",
        "y_te_loc=np.load(\"/content/drive/MyDrive/z-scored_filtered_my_method/isolationfiltered_loc_y_te.npy\",allow_pickle=True)\n",
        "y_te_v4=np.load(\"/content/drive/MyDrive/z-scored_filtered_my_method/isolationfiltered_v4_y_te.npy\",allow_pickle=True)\n",
        "y_te_v3=np.load(\"/content/drive/MyDrive/z-scored_filtered_my_method/isolationfiltered_v3_y_te.npy\",allow_pickle=True)\n",
        "y_te_v2=np.load(\"/content/drive/MyDrive/z-scored_filtered_my_method/isolationfiltered_v2_y_te.npy\",allow_pickle=True)\n",
        "y_te_v1=np.load(\"/content/drive/MyDrive/z-scored_filtered_my_method/isolationfiltered_v1_y_te.npy\",allow_pickle=True)\n"
      ],
      "metadata": {
        "id": "4AKTFjbwuzKa"
      },
      "execution_count": null,
      "outputs": []
    },
    {
      "cell_type": "code",
      "execution_count": null,
      "metadata": {
        "id": "yLRuCDQi7Dxa",
        "colab": {
          "base_uri": "https://localhost:8080/"
        },
        "outputId": "203f1ada-5ccf-4f70-d08e-4b2db7c5998c"
      },
      "outputs": [
        {
          "output_type": "stream",
          "name": "stdout",
          "text": [
            "PPA\n",
            "FFA\n",
            "LOC\n",
            "V4\n",
            "V3\n",
            "V2\n",
            "V1\n"
          ]
        }
      ],
      "source": [
        " import os\n",
        "\n",
        "# List of different latent vector sets\n",
        "y_te_all = [y_te_p, y_te_f, y_te_loc, y_te_v4, y_te_v3, y_te_v2, y_te_v1]\n",
        "\n",
        "# Corresponding folder names for each latent vector set\n",
        "folder=[\"PPA\",\"FFA\",\"LOC\",\"V4\",\"V3\",\"V2\",\"V1\"]\n",
        "\n",
        "# Iterate over each latent vector set and its corresponding folder name\n",
        "for ind,data in enumerate(y_te_all):\n",
        "  print(folder[ind])\n",
        "  # Repeat the latent vectors 37 times, transpose, and convert to PyTorch tensor\n",
        "  latents = torch.from_numpy(np.repeat(data[None], 37, axis=0).transpose(1, 0, 2)).to(device)\n",
        "  latents.shape\n",
        "  # Create the save directory if it does not exist\n",
        "  save_dir=f\"/content/drive/MyDrive/z-scored_filtered_my_method/IsolationFiltered/{folder[ind]}/\"\n",
        "  os.makedirs(save_dir, exist_ok=True)\n",
        "  # Iterate over each latent vector in the tensor\n",
        "  for ind, latent in enumerate(latents):\n",
        "      # Reconstruct the image from the latent vector\n",
        "      image = reconstruction(latent)\n",
        "      file_name = f\"image_{ind}.png\"  # Define the file name with the desired index\n",
        "      file_path = os.path.join(save_dir, file_name)  # Construct the full file path\n",
        "      image.save(file_path)  # Save the image\n"
      ]
    }
  ],
  "metadata": {
    "accelerator": "GPU",
    "colab": {
      "gpuType": "L4",
      "machine_shape": "hm",
      "provenance": []
    },
    "kernelspec": {
      "display_name": "Python 3",
      "name": "python3"
    },
    "language_info": {
      "name": "python"
    }
  },
  "nbformat": 4,
  "nbformat_minor": 0
}