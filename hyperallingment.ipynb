{
  "nbformat": 4,
  "nbformat_minor": 0,
  "metadata": {
    "colab": {
      "provenance": []
    },
    "kernelspec": {
      "name": "python3",
      "display_name": "Python 3"
    },
    "language_info": {
      "name": "python"
    }
  },
  "cells": [
    {
      "cell_type": "markdown",
      "source": [
        "#Hyperallignment of Data\n",
        "##Written by Gergana Slaveykova s1070004\n",
        "##Radboud University- B3 Thesis project"
      ],
      "metadata": {
        "id": "7wYR5OwDIyK2"
      }
    },
    {
      "cell_type": "code",
      "source": [
        "# Let's define functions and load the data.\n",
        "# Note: procrusted() and HyperAlign() function was adapted from python package HyperTools.\n",
        "# Source: https://github.com/ContextLab/hypertools\n",
        "\n",
        "import numpy as np\n",
        "import matplotlib.pyplot as plt\n",
        "import matplotlib.gridspec as gridspec\n",
        "from sklearn.svm import SVC\n",
        "from sklearn.model_selection import KFold\n",
        "from sklearn.metrics import confusion_matrix\n",
        "from sklearn.manifold import TSNE"
      ],
      "metadata": {
        "id": "j0kXpOM5EMOF"
      },
      "execution_count": null,
      "outputs": []
    },
    {
      "cell_type": "code",
      "source": [
        "#Mount Google Drive to acess data and storing purposes\n",
        "from google.colab import drive\n",
        "drive.mount('/content/drive')"
      ],
      "metadata": {
        "colab": {
          "base_uri": "https://localhost:8080/"
        },
        "id": "2CCmUNGoPPMH",
        "outputId": "0fdd23ab-b335-432f-de10-fa88d4f602bd"
      },
      "execution_count": null,
      "outputs": [
        {
          "output_type": "stream",
          "name": "stdout",
          "text": [
            "Mounted at /content/drive\n"
          ]
        }
      ]
    },
    {
      "cell_type": "code",
      "execution_count": null,
      "metadata": {
        "id": "d7YIVFztCtXv"
      },
      "outputs": [],
      "source": [
        "def procrustes(source, target):\n",
        "    def fit(source, target):\n",
        "        datas = (source, target)\n",
        "\n",
        "        ##-------------- STEP 1: Normalize ---------------##\n",
        "        ssqs = [np.sum(d**2, axis=0) for d in datas]\n",
        "        norms = [ np.sqrt(np.sum(ssq)) for ssq in ssqs ]\n",
        "        normed = [ data/norm for (data, norm) in zip(datas, norms) ]\n",
        "        source, target = normed\n",
        "\n",
        "        ##------ STEP 2: Calculate optimal rotation ------##\n",
        "        U, s, Vh = np.linalg.svd(np.dot(target.T, source),\n",
        "                                 full_matrices=False)\n",
        "        T = np.dot(Vh.T, U.T)\n",
        "\n",
        "        ##---------------- STEP 3: Scaling ---------------##\n",
        "        ss = sum(s)\n",
        "        scale = ss * norms[1] / norms[0]\n",
        "        proj = scale * T\n",
        "\n",
        "        return proj\n",
        "\n",
        "    ##------------- STEP 4: Transformation -----------##\n",
        "    proj = fit(source, target)\n",
        "    return np.dot(source, proj)\n",
        "\n",
        "\n",
        "def HyperAlign(data):\n",
        "\n",
        "    ##----------- STEP 1: MAKE TEMPLATE -----------##\n",
        "    # make preliminary template from subject 1 and adjust it\n",
        "    template = np.copy(data[0])\n",
        "    for x in range(1, len(data)):\n",
        "        next = procrustes(data[x], template/(x+1))\n",
        "        template += next\n",
        "    template /= len(data)\n",
        "\n",
        "    ##-------- STEP 2: NEW COMMON TEMPLATE --------##\n",
        "    # align each subj to the template from STEP 1\n",
        "    new_template = np.zeros(template.shape)\n",
        "    for x in range(0, len(data)):\n",
        "        next = procrustes(data[x], template)\n",
        "        new_template += next\n",
        "    new_template /= len(data)\n",
        "\n",
        "    ##---- STEP 3: HYPER-ALIGN TO NEW TEMPLATE ----##\n",
        "    # align each subj to the Final template from STEP 2\n",
        "    aligned = [np.zeros(new_template.shape)] * len(data)\n",
        "    aligned = []\n",
        "    for x in range(0, len(data)):\n",
        "        next = procrustes(data[x], new_template)\n",
        "        aligned.append(next)\n",
        "\n",
        "    # data > Template > aligned data\n",
        "    return aligned\n"
      ]
    },
    {
      "cell_type": "code",
      "source": [
        "# count max voxels per roi\n",
        "# With the help of Thirza Dado\n",
        "\n",
        "# Define the regions of interest (ROIs)\n",
        "rois = [\"V1\", \"V2\", \"V3\", \"V4\", \"LOC\", \"FFA\", \"PPA\"]\n",
        "c1 = 0\n",
        "c2 = 0\n",
        "\n",
        "# Iterate over each ROI\n",
        "for roi in rois:\n",
        "    # Initialize an array to store the number of voxels for each subject\n",
        "    num_voxels = np.zeros(3, int)\n",
        "    xs = []\n",
        "    # Load data for each subject\n",
        "    for subject in range(3):\n",
        "        # Load the voxel data for the current subject and ROI\n",
        "        x = np.load(f\"/content/drive/MyDrive/GOD-NEW-3p/x_{subject+1}_{roi}.npy\")\n",
        "        print(f\"Shape of the data {np.array(x).shape}\")\n",
        "        # Store the number of voxels (second dimension of x) for the current subject\n",
        "        num_voxels[subject] = x.shape[1]\n",
        "        xs.append(x)\n",
        "\n",
        "    # Find the index of the subject with the maximum number of voxels\n",
        "    max_voxels_index = np.argmax(num_voxels)\n",
        "    # If the subject with the maximum number of voxels is not the first subject\n",
        "    if max_voxels_index != 0:\n",
        "        xs.insert(0, xs.pop(max_voxels_index))\n",
        "\n",
        "    # Get the maximum number of voxels\n",
        "    max_num_voxels = num_voxels[max_voxels_index]\n",
        "\n",
        "    # Perform hyperalignment on the data\n",
        "    x_aligned = HyperAlign(xs)\n",
        "    print(np.array(x_aligned).shape)\n",
        "\n",
        "    #If you want them meaned\n",
        "    #mean_along_first_axis = np.mean(x_aligned, axis=0)\n",
        "    #print(\"Mean along the first axis shape:\", x_aligned.shape)\n",
        "    np.save(f\"/content/drive/MyDrive/GOD-NEW-3p/{roi}_hyperaligned.npy\", x_aligned)\n",
        "    c1 += np.max(num_voxels)\n",
        "    c2 += xs[0].shape[1]\n",
        "\n"
      ],
      "metadata": {
        "id": "5MmyHl4mJjqf",
        "colab": {
          "base_uri": "https://localhost:8080/"
        },
        "outputId": "44b4ef62-c0bd-407c-d059-c06bb2b1a741"
      },
      "execution_count": null,
      "outputs": [
        {
          "output_type": "stream",
          "name": "stdout",
          "text": [
            "Shape of the data (1250, 2521)\n",
            "Shape of the data (1250, 2329)\n",
            "Shape of the data (1250, 1418)\n",
            "(3, 1250, 2521)\n",
            "Shape of the data (1250, 2370)\n",
            "Shape of the data (1250, 2687)\n",
            "Shape of the data (1250, 1498)\n",
            "(3, 1250, 2687)\n",
            "Shape of the data (1250, 1765)\n",
            "Shape of the data (1250, 2058)\n",
            "Shape of the data (1250, 1470)\n",
            "(3, 1250, 2058)\n",
            "Shape of the data (1250, 1283)\n",
            "Shape of the data (1250, 837)\n",
            "Shape of the data (1250, 1257)\n",
            "(3, 1250, 1283)\n",
            "Shape of the data (1250, 2257)\n",
            "Shape of the data (1250, 1871)\n",
            "Shape of the data (1250, 2724)\n",
            "(3, 1250, 2724)\n",
            "Shape of the data (1250, 2100)\n",
            "Shape of the data (1250, 1084)\n",
            "Shape of the data (1250, 662)\n",
            "(3, 1250, 2100)\n",
            "Shape of the data (1250, 767)\n",
            "Shape of the data (1250, 900)\n",
            "Shape of the data (1250, 614)\n",
            "(3, 1250, 900)\n"
          ]
        }
      ]
    }
  ]
}